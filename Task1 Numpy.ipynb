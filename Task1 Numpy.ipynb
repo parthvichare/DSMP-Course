{
 "cells": [
  {
   "cell_type": "code",
   "execution_count": 2,
   "id": "0049acb4",
   "metadata": {},
   "outputs": [],
   "source": [
    "import numpy as np"
   ]
  },
  {
   "cell_type": "code",
   "execution_count": 2,
   "id": "30395a63",
   "metadata": {},
   "outputs": [],
   "source": [
    "#Q1 Create Null vector size of 10 whihch 5th value is 1"
   ]
  },
  {
   "cell_type": "code",
   "execution_count": 3,
   "id": "5a6a48a1",
   "metadata": {},
   "outputs": [
    {
     "data": {
      "text/plain": [
       "array([0., 0., 0., 0., 1., 0., 0., 0., 0., 0.])"
      ]
     },
     "execution_count": 3,
     "metadata": {},
     "output_type": "execute_result"
    }
   ],
   "source": [
    "null_array=np.zeros(10)\n",
    "null_array[4]=1\n",
    "null_array"
   ]
  },
  {
   "cell_type": "code",
   "execution_count": 13,
   "id": "75ce99a0",
   "metadata": {},
   "outputs": [],
   "source": [
    "#Q2 Ask user to input two numbers a, b. Write a program to generate a random array of shape (a, b) and print the array and avg \n",
    "# of the array"
   ]
  },
  {
   "cell_type": "code",
   "execution_count": 12,
   "id": "6f427fcc",
   "metadata": {},
   "outputs": [
    {
     "name": "stdout",
     "output_type": "stream",
     "text": [
      "Enter your a value: 32\n",
      "Enter your b value: 100\n",
      "[[ 0.04725428  1.26711086 -0.52729721 ... -0.37561816 -0.72695507\n",
      "  -1.05815159]\n",
      " [-0.13866308 -0.20705416  0.99643914 ...  0.64816216  0.56416144\n",
      "   1.20686835]\n",
      " [ 1.38005652  1.4284668  -0.32921306 ...  0.51127501  1.67186331\n",
      "   0.06005022]\n",
      " ...\n",
      " [ 0.22157639 -1.19828288  0.58343617 ...  0.31504949 -0.16839819\n",
      "  -0.90068562]\n",
      " [-0.18338454  1.00533586 -1.42403014 ...  0.04990271  2.00418505\n",
      "  -0.99779643]\n",
      " [-0.34847585  1.20109919 -2.81640075 ... -0.63234277  1.68400854\n",
      "  -1.6602813 ]]\n",
      "The average mean is: 0.00969906777965993\n"
     ]
    }
   ],
   "source": [
    "a=int(input('Enter your a value: '))\n",
    "b=int(input('Enter your b value: '))\n",
    "\n",
    "random_array=np.random.randn(a,b)\n",
    "print(random_array)\n",
    "\n",
    "avg_mean=np.mean(random_array)\n",
    "print(f'The average mean is: {avg_mean}')"
   ]
  },
  {
   "cell_type": "code",
   "execution_count": 18,
   "id": "a4c48d1a",
   "metadata": {},
   "outputs": [
    {
     "data": {
      "text/plain": [
       "array([[1, 1, 1, 1],\n",
       "       [1, 0, 0, 1],\n",
       "       [1, 0, 0, 1],\n",
       "       [1, 1, 1, 1]])"
      ]
     },
     "execution_count": 18,
     "metadata": {},
     "output_type": "execute_result"
    }
   ],
   "source": [
    "np.array([[1,1,1,1],[1,0,0,1],[1,0,0,1],[1,1,1,1]])"
   ]
  },
  {
   "cell_type": "code",
   "execution_count": 29,
   "id": "bbdbf342",
   "metadata": {},
   "outputs": [
    {
     "data": {
      "text/plain": [
       "array([[0, 0, 0, 0],\n",
       "       [0, 0, 0, 0],\n",
       "       [0, 0, 0, 0],\n",
       "       [0, 0, 0, 0]])"
      ]
     },
     "execution_count": 29,
     "metadata": {},
     "output_type": "execute_result"
    }
   ],
   "source": [
    "np.zeros([4,4],dtype=int)"
   ]
  },
  {
   "cell_type": "code",
   "execution_count": 78,
   "id": "4189cdfd",
   "metadata": {},
   "outputs": [
    {
     "name": "stdout",
     "output_type": "stream",
     "text": [
      "Enter your a value3\n",
      "Enter your b value4\n",
      "[[1 1 1 1]\n",
      " [1 0 0 1]\n",
      " [1 1 1 1]]\n"
     ]
    }
   ],
   "source": [
    "# Q-3Write a function to create a 2d array with 1 on the border and 0 inside. Take 2-D array shape as (a,b) as parameter to \n",
    "# function.\n",
    "\n",
    "import numpy as np\n",
    "def create_array(a,b):    \n",
    "    array=np.zeros([a,b],dtype=int)\n",
    "    array[0,:]=1 #top row \n",
    "    array[:,0]=1 #left column\n",
    "    array[:,-1]=1 #right column\n",
    "    array[-1,:]=1  #bottom row\n",
    "    return array\n",
    "    \n",
    "a=int(input('Enter your a value'))\n",
    "b=int(input('Enter your b value'))\n",
    "array=create_array(a,b)\n",
    "\n",
    "print(array)"
   ]
  },
  {
   "cell_type": "code",
   "execution_count": 88,
   "id": "e3f84ed0",
   "metadata": {},
   "outputs": [
    {
     "name": "stdout",
     "output_type": "stream",
     "text": [
      "[0.         0.11111111 0.22222222 0.33333333 0.44444444 0.55555556\n",
      " 0.66666667 0.77777778 0.88888889 1.        ]\n"
     ]
    }
   ],
   "source": [
    "# Q-4 Create a vector of size 10 with values ranging from 0 to 1, both excluded.\n",
    "vector= np.linspace(0,1,10)\n",
    "print(vector)"
   ]
  },
  {
   "cell_type": "code",
   "execution_count": 100,
   "id": "59226df0",
   "metadata": {},
   "outputs": [
    {
     "data": {
      "text/plain": [
       "array([[1, 0, 0, 0],\n",
       "       [0, 1, 0, 0],\n",
       "       [0, 0, 1, 0]])"
      ]
     },
     "execution_count": 100,
     "metadata": {},
     "output_type": "execute_result"
    }
   ],
   "source": [
    "# Q-5 Can you create a identity mattrix of shape (3,4). If yes write code for it.\n",
    "identity_matrix=np.eye(3,4,dtype=int)"
   ]
  },
  {
   "cell_type": "code",
   "execution_count": 107,
   "id": "b1df13ef",
   "metadata": {},
   "outputs": [
    {
     "data": {
      "text/plain": [
       "array([[0.        , 0.16666667, 0.33333333, 0.5       , 0.66666667],\n",
       "       [0.83333333, 1.        , 1.16666667, 1.33333333, 1.5       ],\n",
       "       [1.66666667, 1.83333333, 2.        , 2.16666667, 2.33333333],\n",
       "       [2.5       , 2.66666667, 2.83333333, 3.        , 3.16666667],\n",
       "       [3.33333333, 3.5       , 3.66666667, 3.83333333, 4.        ]])"
      ]
     },
     "execution_count": 107,
     "metadata": {},
     "output_type": "execute_result"
    }
   ],
   "source": [
    "np.linspace(0,4,25).reshape(5,5)"
   ]
  },
  {
   "cell_type": "code",
   "execution_count": 115,
   "id": "e8f2a5e3",
   "metadata": {},
   "outputs": [
    {
     "data": {
      "text/plain": [
       "array([[0, 1, 2, 3, 4],\n",
       "       [1, 2, 3, 4, 5],\n",
       "       [2, 3, 4, 5, 6],\n",
       "       [3, 4, 5, 6, 7],\n",
       "       [4, 5, 6, 7, 8]])"
      ]
     },
     "execution_count": 115,
     "metadata": {},
     "output_type": "execute_result"
    }
   ],
   "source": [
    "np.arange(5).reshape(5,1)+np.arange(5)"
   ]
  },
  {
   "cell_type": "code",
   "execution_count": 116,
   "id": "724f29ea",
   "metadata": {},
   "outputs": [
    {
     "name": "stdout",
     "output_type": "stream",
     "text": [
      "[[0 1 2 3 4]\n",
      " [0 1 2 3 4]\n",
      " [0 1 2 3 4]\n",
      " [0 1 2 3 4]\n",
      " [0 1 2 3 4]]\n"
     ]
    }
   ],
   "source": [
    "# Q-6: Create a 5x5 matrix with row values ranging from 0 to 4.\n",
    "\n",
    "matrix = np.tile(np.arange(5), (5, 1))\n",
    "print(matrix)"
   ]
  },
  {
   "cell_type": "code",
   "execution_count": 2,
   "id": "74bf3c6f",
   "metadata": {},
   "outputs": [],
   "source": [
    "#Q-7: Consider a random integer (in range 1 to 100) vector with shape (10,2) representing coordinates, and coordinates of a \n",
    "# point as array is given. Create an array of distance of each point in the random vectros from the given point. Distance \n",
    "# array should be interger type.??\n",
    "\n",
    "import numpy as np\n",
    "\n",
    "random_vector= np.random.randint(1,101,size=(10,2))\n",
    "given_point=np.array([10,2])\n",
    "\n",
    "#Calculate the Euclidean for given and random point\n",
    "distance=np.linalg.norm(random_vector-given_point,axis=1)\n",
    "\n",
    "distance=distance.astype(int)"
   ]
  },
  {
   "cell_type": "code",
   "execution_count": 26,
   "id": "3c852078",
   "metadata": {},
   "outputs": [],
   "source": [
    "my_array=np.array([[1,2,3],[2,3,4],[5,6,7]])"
   ]
  },
  {
   "cell_type": "code",
   "execution_count": 27,
   "id": "8c4ad208",
   "metadata": {},
   "outputs": [
    {
     "data": {
      "text/plain": [
       "9"
      ]
     },
     "execution_count": 27,
     "metadata": {},
     "output_type": "execute_result"
    }
   ],
   "source": [
    "my_array.size"
   ]
  },
  {
   "cell_type": "code",
   "execution_count": null,
   "id": "34ce1c43",
   "metadata": {},
   "outputs": [],
   "source": [
    "#Q8. You are given a space separated list of numbers. Your task is to print a reversed NumPy array with the element type float.\n",
    "import numpy as np\n",
    "\n",
    "# Input: A single line of space-separated numbers\n",
    "input_numbers = input(\"Enter space-separated numbers: \")\n",
    "\n",
    "# Convert the input to a NumPy array\n",
    "original_array = np.array([float(x) for x in input_numbers.split()])\n",
    "\n",
    "# Reverse the array\n",
    "reversed_array = np.flip(original_array)\n",
    "\n",
    "# Print the reversed array with the element type float\n",
    "print(\"Reversed NumPy array with type float:\")\n",
    "print(reversed_array.astype(float))"
   ]
  },
  {
   "cell_type": "code",
   "execution_count": null,
   "id": "5b9e7b50",
   "metadata": {},
   "outputs": [],
   "source": []
  }
 ],
 "metadata": {
  "kernelspec": {
   "display_name": "Python 3 (ipykernel)",
   "language": "python",
   "name": "python3"
  },
  "language_info": {
   "codemirror_mode": {
    "name": "ipython",
    "version": 3
   },
   "file_extension": ".py",
   "mimetype": "text/x-python",
   "name": "python",
   "nbconvert_exporter": "python",
   "pygments_lexer": "ipython3",
   "version": "3.11.5"
  }
 },
 "nbformat": 4,
 "nbformat_minor": 5
}
